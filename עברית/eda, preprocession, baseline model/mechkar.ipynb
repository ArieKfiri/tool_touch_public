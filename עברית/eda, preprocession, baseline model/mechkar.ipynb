{
 "cells": [
  {
   "cell_type": "code",
   "execution_count": 1,
   "id": "76957fc7",
   "metadata": {},
   "outputs": [],
   "source": [
    "ff <- read.csv(\"ff.csv\")\n"
   ]
  },
  {
   "cell_type": "code",
   "execution_count": 2,
   "id": "330a7478",
   "metadata": {},
   "outputs": [
    {
     "name": "stdout",
     "output_type": "stream",
     "text": [
      "  |============================================                          |  63%"
     ]
    },
    {
     "name": "stderr",
     "output_type": "stream",
     "text": [
      "The variable PACKET_RETRANSMIT has less than two unique values, so will not be included\n",
      "\n",
      "The variable TRANSMITTED_DEBUG_INDX has less than two unique values, so will not be included\n",
      "\n"
     ]
    },
    {
     "name": "stdout",
     "output_type": "stream",
     "text": [
      "  |=============================================                         |  64%"
     ]
    },
    {
     "name": "stderr",
     "output_type": "stream",
     "text": [
      "The variable X_PARTITION has less than two unique values, so will not be included\n",
      "\n"
     ]
    },
    {
     "name": "stdout",
     "output_type": "stream",
     "text": [
      "  |==============================================                        |  66%"
     ]
    },
    {
     "name": "stderr",
     "output_type": "stream",
     "text": [
      "The variable ANOMALY_POSITION has less than two unique values, so will not be included\n",
      "\n"
     ]
    },
    {
     "name": "stdout",
     "output_type": "stream",
     "text": [
      "  |===============================================                       |  67%"
     ]
    },
    {
     "name": "stderr",
     "output_type": "stream",
     "text": [
      "The variable CONNECTION_TIME has less than two unique values, so will not be included\n",
      "\n",
      "The variable CONSECUTIVELY_LOST_PACKET has less than two unique values, so will not be included\n",
      "\n"
     ]
    },
    {
     "name": "stdout",
     "output_type": "stream",
     "text": [
      "  |===================================================                   |  73%"
     ]
    },
    {
     "name": "stderr",
     "output_type": "stream",
     "text": [
      "The variable INSERT_REPLACEMENT_REPORTED has less than two unique values, so will not be included\n",
      "\n",
      "The variable MATCH_FACTOR has less than two unique values, so will not be included\n",
      "\n",
      "The variable OPERATION_NUM has less than two unique values, so will not be included\n",
      "\n"
     ]
    },
    {
     "name": "stdout",
     "output_type": "stream",
     "text": [
      "  |=======================================================               |  79%"
     ]
    },
    {
     "name": "stderr",
     "output_type": "stream",
     "text": [
      "The variable TOOL_TYPE has less than two unique values, so will not be included\n",
      "\n",
      "The variable TOTAL_LOST_PACKET_NUM has less than two unique values, so will not be included\n",
      "\n",
      "The variable WEAR_LEVEL has less than two unique values, so will not be included\n",
      "\n"
     ]
    },
    {
     "name": "stdout",
     "output_type": "stream",
     "text": [
      "  |======================================================================| 100%"
     ]
    }
   ],
   "source": [
    "suppressWarnings(mechkar::exploreData(data=ff, y=\"VALUE\"))"
   ]
  },
  {
   "cell_type": "code",
   "execution_count": null,
   "id": "e7d8d768",
   "metadata": {},
   "outputs": [],
   "source": []
  }
 ],
 "metadata": {
  "kernelspec": {
   "display_name": "R",
   "language": "R",
   "name": "ir"
  },
  "language_info": {
   "codemirror_mode": "r",
   "file_extension": ".r",
   "mimetype": "text/x-r-source",
   "name": "R",
   "pygments_lexer": "r",
   "version": "4.1.2"
  }
 },
 "nbformat": 4,
 "nbformat_minor": 5
}
