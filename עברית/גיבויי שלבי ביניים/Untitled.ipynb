{
 "cells": [
  {
   "cell_type": "code",
   "execution_count": 5,
   "id": "75263d81",
   "metadata": {},
   "outputs": [],
   "source": [
    "import keras\n",
    "from keras.layers import LSTM, Dropout, Dense\n",
    "import tensorflow as tf\n",
    "import numpy as np\n",
    "import pandas as pd\n",
    "import pickle"
   ]
  },
  {
   "cell_type": "code",
   "execution_count": 6,
   "id": "aa5f9d40",
   "metadata": {},
   "outputs": [],
   "source": [
    "with open('df_train.pkl', 'rb') as f:\n",
    "    df_train = pickle.load(f)\n",
    "    \n",
    "with open('df_validation.pkl', 'rb') as f:\n",
    "    df_validation = pickle.load(f)\n",
    "\n",
    "with open('df_test.pkl', 'rb') as f:\n",
    "    df_test = pickle.load(f)\n"
   ]
  },
  {
   "cell_type": "code",
   "execution_count": 7,
   "id": "3f5cae4f",
   "metadata": {},
   "outputs": [],
   "source": [
    "df_train_4 = df_train[[\n",
    "'INTERVAL_IN_FILE',\n",
    "'BAND_ARR_5',\n",
    "'BAND_ARR_6',\n",
    "'BAND_ARR_7',\n",
    "'BAND_ARR_8',\n",
    "'BAND_ARR_13',\n",
    "'BIT_FLAG',\n",
    "'MAX_VALUE',\n",
    "'NTC',\n",
    "'BAND_ARR_2__fft_coefficient__attr_\"imag\"__coeff_1',\n",
    "'BAND_ARR_8__fft_coefficient__attr_\"real\"__coeff_4',\n",
    "'VALUE'\n",
    "\n",
    "]].reset_index()\n",
    "\n",
    "df_validation_4 = df_validation[[\n",
    "'INTERVAL_IN_FILE',\n",
    "'BAND_ARR_5',\n",
    "'BAND_ARR_6',\n",
    "'BAND_ARR_7',\n",
    "'BAND_ARR_8',\n",
    "'BAND_ARR_13',\n",
    "'BIT_FLAG',\n",
    "'MAX_VALUE',\n",
    "'NTC',\n",
    "'BAND_ARR_2__fft_coefficient__attr_\"imag\"__coeff_1',\n",
    "'BAND_ARR_8__fft_coefficient__attr_\"real\"__coeff_4',\n",
    "'VALUE'\n",
    "\n",
    "]].reset_index()\n",
    "\n",
    "df_test_4 = df_test[[\n",
    "'INTERVAL_IN_FILE',\n",
    "'BAND_ARR_5',\n",
    "'BAND_ARR_6',\n",
    "'BAND_ARR_7',\n",
    "'BAND_ARR_8',\n",
    "'BAND_ARR_13',\n",
    "'BIT_FLAG',\n",
    "'MAX_VALUE',\n",
    "'NTC',\n",
    "'BAND_ARR_2__fft_coefficient__attr_\"imag\"__coeff_1',\n",
    "'BAND_ARR_8__fft_coefficient__attr_\"real\"__coeff_4',\n",
    "'VALUE'\n",
    "\n",
    "]].reset_index()\n",
    "\n"
   ]
  },
  {
   "cell_type": "code",
   "execution_count": 21,
   "id": "94798cbc",
   "metadata": {},
   "outputs": [
    {
     "name": "stderr",
     "output_type": "stream",
     "text": [
      "C:\\Users\\Arie\\AppData\\Local\\Temp/ipykernel_9968/362572692.py:7: SettingWithCopyWarning: \n",
      "A value is trying to be set on a copy of a slice from a DataFrame.\n",
      "Try using .loc[row_indexer,col_indexer] = value instead\n",
      "\n",
      "See the caveats in the documentation: https://pandas.pydata.org/pandas-docs/stable/user_guide/indexing.html#returning-a-view-versus-a-copy\n",
      "  X_train['SESSION_INFO_ID'] = number.fit_transform(X_train.SESSION_INFO_ID)\n"
     ]
    }
   ],
   "source": [
    "from sklearn import preprocessing\n",
    "\n",
    "\n",
    "X_train = df_train_4.loc[:, df_train_4.columns != 'VALUE']\n",
    "\n",
    "number = preprocessing.LabelEncoder()\n",
    "X_train['SESSION_INFO_ID'] = number.fit_transform(X_train.SESSION_INFO_ID)       \n",
    "y_train = df_train_4.VALUE"
   ]
  },
  {
   "cell_type": "code",
   "execution_count": 22,
   "id": "405f7bab",
   "metadata": {},
   "outputs": [
    {
     "data": {
      "text/plain": [
       "((69445, 12), (69445,))"
      ]
     },
     "execution_count": 22,
     "metadata": {},
     "output_type": "execute_result"
    }
   ],
   "source": [
    "X_train.shape, y_train.shape"
   ]
  },
  {
   "cell_type": "code",
   "execution_count": 23,
   "id": "4347db4e",
   "metadata": {},
   "outputs": [],
   "source": [
    "sequence_length = 10\n",
    "number_of_features = 12\n"
   ]
  },
  {
   "cell_type": "code",
   "execution_count": 24,
   "id": "89dd3639",
   "metadata": {},
   "outputs": [
    {
     "name": "stdout",
     "output_type": "stream",
     "text": [
      "Model: \"sequential_1\"\n",
      "_________________________________________________________________\n",
      " Layer (type)                Output Shape              Param #   \n",
      "=================================================================\n",
      " lstm_1 (LSTM)               (None, 100)               45200     \n",
      "                                                                 \n",
      " dropout_1 (Dropout)         (None, 100)               0         \n",
      "                                                                 \n",
      " dense_1 (Dense)             (None, 1)                 101       \n",
      "                                                                 \n",
      "=================================================================\n",
      "Total params: 45,301\n",
      "Trainable params: 45,301\n",
      "Non-trainable params: 0\n",
      "_________________________________________________________________\n"
     ]
    }
   ],
   "source": [
    "model = keras.Sequential()\n",
    "model.add(LSTM(100, input_shape = (sequence_length, number_of_features)))\n",
    "model.add(Dropout(0.5))\n",
    "model.add(Dense(1, activation=\"sigmoid\"))\n",
    "model.compile(loss=\"binary_crossentropy\"\n",
    "              , metrics=[keras.metrics.binary_accuracy]\n",
    "              , optimizer=\"adam\")\n",
    "\n",
    "model.summary()"
   ]
  },
  {
   "cell_type": "code",
   "execution_count": 25,
   "id": "b158a9bf",
   "metadata": {},
   "outputs": [],
   "source": [
    "def generate_data(X, y, sequence_length = 10, step = 1):\n",
    "    X_local = []\n",
    "    y_local = []\n",
    "    for start in range(0, len(df_train_4) - sequence_length, step):\n",
    "        end = start + sequence_length\n",
    "        X_local.append(X[start:end])\n",
    "        y_local.append(y[end-1])\n",
    "    return np.array(X_local), np.array(y_local)\n",
    "\n",
    "X_sequence, y = generate_data(X_train, y_train)\n",
    "\n"
   ]
  },
  {
   "cell_type": "code",
   "execution_count": 26,
   "id": "8efbda85",
   "metadata": {},
   "outputs": [
    {
     "name": "stdout",
     "output_type": "stream",
     "text": [
      "Shape: (69435, 10, 12) = (samples, timesteps, features) = (N, T, F)\n",
      "Number of samples, N: 69435\n",
      "Number of time steps, T: 10\n",
      "Number of features, F: 12\n"
     ]
    }
   ],
   "source": [
    "print(f'Shape: {X_sequence.shape} = (samples, timesteps, features) = (N, T, F)')\n",
    "print(f'Number of samples, N: {X_sequence.shape[0]}')\n",
    "print(f'Number of time steps, T: {X_sequence.shape[1]}')\n",
    "print(f'Number of features, F: {X_sequence.shape[2]}')"
   ]
  },
  {
   "cell_type": "code",
   "execution_count": 32,
   "id": "930b5942",
   "metadata": {},
   "outputs": [
    {
     "data": {
      "text/plain": [
       "((69435, 10, 12), (69435,), (69445,))"
      ]
     },
     "execution_count": 32,
     "metadata": {},
     "output_type": "execute_result"
    }
   ],
   "source": [
    "X_sequence.shape, y.shape, y_train.shape"
   ]
  },
  {
   "cell_type": "code",
   "execution_count": 31,
   "id": "3607a6c3",
   "metadata": {},
   "outputs": [
    {
     "name": "stdout",
     "output_type": "stream",
     "text": [
      "Epoch 1/4\n"
     ]
    },
    {
     "ename": "TypeError",
     "evalue": "'NoneType' object is not callable",
     "output_type": "error",
     "traceback": [
      "\u001b[1;31m---------------------------------------------------------------------------\u001b[0m",
      "\u001b[1;31mTypeError\u001b[0m                                 Traceback (most recent call last)",
      "\u001b[1;32m~\\AppData\\Local\\Temp/ipykernel_9968/162684545.py\u001b[0m in \u001b[0;36m<module>\u001b[1;34m\u001b[0m\n\u001b[1;32m----> 1\u001b[1;33m \u001b[0mmodel\u001b[0m\u001b[1;33m.\u001b[0m\u001b[0mfit\u001b[0m\u001b[1;33m(\u001b[0m\u001b[0mX_sequence\u001b[0m\u001b[1;33m,\u001b[0m \u001b[0my\u001b[0m\u001b[1;33m,\u001b[0m \u001b[0mbatch_size\u001b[0m\u001b[1;33m=\u001b[0m\u001b[1;36m64\u001b[0m\u001b[1;33m,\u001b[0m \u001b[0mepochs\u001b[0m\u001b[1;33m=\u001b[0m\u001b[1;36m4\u001b[0m\u001b[1;33m)\u001b[0m\u001b[1;33m\u001b[0m\u001b[1;33m\u001b[0m\u001b[0m\n\u001b[0m",
      "\u001b[1;32mC:\\ProgramData\\Anaconda3\\lib\\site-packages\\keras\\utils\\traceback_utils.py\u001b[0m in \u001b[0;36merror_handler\u001b[1;34m(*args, **kwargs)\u001b[0m\n\u001b[0;32m     65\u001b[0m     \u001b[1;32mexcept\u001b[0m \u001b[0mException\u001b[0m \u001b[1;32mas\u001b[0m \u001b[0me\u001b[0m\u001b[1;33m:\u001b[0m  \u001b[1;31m# pylint: disable=broad-except\u001b[0m\u001b[1;33m\u001b[0m\u001b[1;33m\u001b[0m\u001b[0m\n\u001b[0;32m     66\u001b[0m       \u001b[0mfiltered_tb\u001b[0m \u001b[1;33m=\u001b[0m \u001b[0m_process_traceback_frames\u001b[0m\u001b[1;33m(\u001b[0m\u001b[0me\u001b[0m\u001b[1;33m.\u001b[0m\u001b[0m__traceback__\u001b[0m\u001b[1;33m)\u001b[0m\u001b[1;33m\u001b[0m\u001b[1;33m\u001b[0m\u001b[0m\n\u001b[1;32m---> 67\u001b[1;33m       \u001b[1;32mraise\u001b[0m \u001b[0me\u001b[0m\u001b[1;33m.\u001b[0m\u001b[0mwith_traceback\u001b[0m\u001b[1;33m(\u001b[0m\u001b[0mfiltered_tb\u001b[0m\u001b[1;33m)\u001b[0m \u001b[1;32mfrom\u001b[0m \u001b[1;32mNone\u001b[0m\u001b[1;33m\u001b[0m\u001b[1;33m\u001b[0m\u001b[0m\n\u001b[0m\u001b[0;32m     68\u001b[0m     \u001b[1;32mfinally\u001b[0m\u001b[1;33m:\u001b[0m\u001b[1;33m\u001b[0m\u001b[1;33m\u001b[0m\u001b[0m\n\u001b[0;32m     69\u001b[0m       \u001b[1;32mdel\u001b[0m \u001b[0mfiltered_tb\u001b[0m\u001b[1;33m\u001b[0m\u001b[1;33m\u001b[0m\u001b[0m\n",
      "\u001b[1;32mC:\\ProgramData\\Anaconda3\\lib\\site-packages\\tensorflow\\python\\eager\\def_function.py\u001b[0m in \u001b[0;36m_call\u001b[1;34m(self, *args, **kwds)\u001b[0m\n\u001b[0;32m    945\u001b[0m       \u001b[1;31m# In this case we have created variables on the first call, so we run the\u001b[0m\u001b[1;33m\u001b[0m\u001b[1;33m\u001b[0m\u001b[0m\n\u001b[0;32m    946\u001b[0m       \u001b[1;31m# defunned version which is guaranteed to never create variables.\u001b[0m\u001b[1;33m\u001b[0m\u001b[1;33m\u001b[0m\u001b[0m\n\u001b[1;32m--> 947\u001b[1;33m       \u001b[1;32mreturn\u001b[0m \u001b[0mself\u001b[0m\u001b[1;33m.\u001b[0m\u001b[0m_stateless_fn\u001b[0m\u001b[1;33m(\u001b[0m\u001b[1;33m*\u001b[0m\u001b[0margs\u001b[0m\u001b[1;33m,\u001b[0m \u001b[1;33m**\u001b[0m\u001b[0mkwds\u001b[0m\u001b[1;33m)\u001b[0m  \u001b[1;31m# pylint: disable=not-callable\u001b[0m\u001b[1;33m\u001b[0m\u001b[1;33m\u001b[0m\u001b[0m\n\u001b[0m\u001b[0;32m    948\u001b[0m     \u001b[1;32melif\u001b[0m \u001b[0mself\u001b[0m\u001b[1;33m.\u001b[0m\u001b[0m_stateful_fn\u001b[0m \u001b[1;32mis\u001b[0m \u001b[1;32mnot\u001b[0m \u001b[1;32mNone\u001b[0m\u001b[1;33m:\u001b[0m\u001b[1;33m\u001b[0m\u001b[1;33m\u001b[0m\u001b[0m\n\u001b[0;32m    949\u001b[0m       \u001b[1;31m# Release the lock early so that multiple threads can perform the call\u001b[0m\u001b[1;33m\u001b[0m\u001b[1;33m\u001b[0m\u001b[0m\n",
      "\u001b[1;31mTypeError\u001b[0m: 'NoneType' object is not callable"
     ]
    }
   ],
   "source": [
    "model.fit(X_sequence, y, batch_size=64, epochs=4)"
   ]
  },
  {
   "cell_type": "code",
   "execution_count": 36,
   "id": "81831b0d",
   "metadata": {},
   "outputs": [
    {
     "data": {
      "text/html": [
       "<div>\n",
       "<style scoped>\n",
       "    .dataframe tbody tr th:only-of-type {\n",
       "        vertical-align: middle;\n",
       "    }\n",
       "\n",
       "    .dataframe tbody tr th {\n",
       "        vertical-align: top;\n",
       "    }\n",
       "\n",
       "    .dataframe thead th {\n",
       "        text-align: right;\n",
       "    }\n",
       "</style>\n",
       "<table border=\"1\" class=\"dataframe\">\n",
       "  <thead>\n",
       "    <tr style=\"text-align: right;\">\n",
       "      <th></th>\n",
       "      <th>SESSION_INFO_ID</th>\n",
       "      <th>INTERVAL_IN_FILE</th>\n",
       "      <th>BAND_ARR_5</th>\n",
       "      <th>BAND_ARR_6</th>\n",
       "      <th>BAND_ARR_7</th>\n",
       "      <th>BAND_ARR_8</th>\n",
       "      <th>BAND_ARR_13</th>\n",
       "      <th>BIT_FLAG</th>\n",
       "      <th>MAX_VALUE</th>\n",
       "      <th>NTC</th>\n",
       "      <th>BAND_ARR_2__fft_coefficient__attr_\"imag\"__coeff_1</th>\n",
       "      <th>BAND_ARR_8__fft_coefficient__attr_\"real\"__coeff_4</th>\n",
       "    </tr>\n",
       "  </thead>\n",
       "  <tbody>\n",
       "    <tr>\n",
       "      <th>0</th>\n",
       "      <td>0</td>\n",
       "      <td>0</td>\n",
       "      <td>0.065059</td>\n",
       "      <td>0.054820</td>\n",
       "      <td>0.055990</td>\n",
       "      <td>0.058916</td>\n",
       "      <td>0.049846</td>\n",
       "      <td>65</td>\n",
       "      <td>0.078078</td>\n",
       "      <td>1393</td>\n",
       "      <td>0.000000</td>\n",
       "      <td>0.000000</td>\n",
       "    </tr>\n",
       "    <tr>\n",
       "      <th>1</th>\n",
       "      <td>1</td>\n",
       "      <td>1</td>\n",
       "      <td>0.055083</td>\n",
       "      <td>0.048825</td>\n",
       "      <td>0.044830</td>\n",
       "      <td>0.050023</td>\n",
       "      <td>0.060275</td>\n",
       "      <td>65</td>\n",
       "      <td>0.078783</td>\n",
       "      <td>1418</td>\n",
       "      <td>-0.004584</td>\n",
       "      <td>0.000000</td>\n",
       "    </tr>\n",
       "    <tr>\n",
       "      <th>2</th>\n",
       "      <td>1</td>\n",
       "      <td>0</td>\n",
       "      <td>0.073132</td>\n",
       "      <td>0.055827</td>\n",
       "      <td>0.054865</td>\n",
       "      <td>0.063518</td>\n",
       "      <td>0.059672</td>\n",
       "      <td>65</td>\n",
       "      <td>0.295214</td>\n",
       "      <td>1416</td>\n",
       "      <td>-0.004584</td>\n",
       "      <td>0.000000</td>\n",
       "    </tr>\n",
       "    <tr>\n",
       "      <th>3</th>\n",
       "      <td>1</td>\n",
       "      <td>2</td>\n",
       "      <td>0.063715</td>\n",
       "      <td>0.055412</td>\n",
       "      <td>0.063122</td>\n",
       "      <td>0.057784</td>\n",
       "      <td>0.056005</td>\n",
       "      <td>65</td>\n",
       "      <td>0.115607</td>\n",
       "      <td>1415</td>\n",
       "      <td>-0.004584</td>\n",
       "      <td>0.000000</td>\n",
       "    </tr>\n",
       "    <tr>\n",
       "      <th>4</th>\n",
       "      <td>2</td>\n",
       "      <td>15</td>\n",
       "      <td>5.214829</td>\n",
       "      <td>4.737063</td>\n",
       "      <td>2.248698</td>\n",
       "      <td>1.950095</td>\n",
       "      <td>2.308419</td>\n",
       "      <td>67</td>\n",
       "      <td>5.214829</td>\n",
       "      <td>1509</td>\n",
       "      <td>-775.536100</td>\n",
       "      <td>-136.078768</td>\n",
       "    </tr>\n",
       "  </tbody>\n",
       "</table>\n",
       "</div>"
      ],
      "text/plain": [
       "   SESSION_INFO_ID  INTERVAL_IN_FILE  BAND_ARR_5  BAND_ARR_6  BAND_ARR_7  \\\n",
       "0                0                 0    0.065059    0.054820    0.055990   \n",
       "1                1                 1    0.055083    0.048825    0.044830   \n",
       "2                1                 0    0.073132    0.055827    0.054865   \n",
       "3                1                 2    0.063715    0.055412    0.063122   \n",
       "4                2                15    5.214829    4.737063    2.248698   \n",
       "\n",
       "   BAND_ARR_8  BAND_ARR_13  BIT_FLAG  MAX_VALUE   NTC  \\\n",
       "0    0.058916     0.049846        65   0.078078  1393   \n",
       "1    0.050023     0.060275        65   0.078783  1418   \n",
       "2    0.063518     0.059672        65   0.295214  1416   \n",
       "3    0.057784     0.056005        65   0.115607  1415   \n",
       "4    1.950095     2.308419        67   5.214829  1509   \n",
       "\n",
       "   BAND_ARR_2__fft_coefficient__attr_\"imag\"__coeff_1  \\\n",
       "0                                           0.000000   \n",
       "1                                          -0.004584   \n",
       "2                                          -0.004584   \n",
       "3                                          -0.004584   \n",
       "4                                        -775.536100   \n",
       "\n",
       "   BAND_ARR_8__fft_coefficient__attr_\"real\"__coeff_4  \n",
       "0                                           0.000000  \n",
       "1                                           0.000000  \n",
       "2                                           0.000000  \n",
       "3                                           0.000000  \n",
       "4                                        -136.078768  "
      ]
     },
     "execution_count": 36,
     "metadata": {},
     "output_type": "execute_result"
    }
   ],
   "source": [
    "X_train.head()"
   ]
  },
  {
   "cell_type": "code",
   "execution_count": null,
   "id": "e6475828",
   "metadata": {},
   "outputs": [],
   "source": []
  }
 ],
 "metadata": {
  "kernelspec": {
   "display_name": "Python 3 (ipykernel)",
   "language": "python",
   "name": "python3"
  },
  "language_info": {
   "codemirror_mode": {
    "name": "ipython",
    "version": 3
   },
   "file_extension": ".py",
   "mimetype": "text/x-python",
   "name": "python",
   "nbconvert_exporter": "python",
   "pygments_lexer": "ipython3",
   "version": "3.9.7"
  }
 },
 "nbformat": 4,
 "nbformat_minor": 5
}
